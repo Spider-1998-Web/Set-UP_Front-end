{
  "cells": [
    {
      "cell_type": "markdown",
      "metadata": {
        "id": "aQuWDmfm9YOi"
      },
      "source": [
        "# Torrents To Google Drive Downloader\n",
        "*Python app to save content from torrent directly to google drive.*"
      ]
    },
    {
      "cell_type": "markdown",
      "metadata": {
        "id": "Uf90U73y9YOj"
      },
      "source": [
        "### Step 1: Mount Google Drive\n",
        "To stream files we need to get access to write on that drive."
      ]
    },
    {
      "cell_type": "code",
      "execution_count": 1,
      "metadata": {
        "colab": {
          "base_uri": "https://localhost:8080/"
        },
        "id": "oWM9l2fvtuvO",
        "outputId": "48012b00-3bc7-47d8-e138-ae5b4159c817"
      },
      "outputs": [
        {
          "output_type": "stream",
          "name": "stdout",
          "text": [
            "Mounted at /content/drive\n"
          ]
        }
      ],
      "source": [
        "from google.colab import drive\n",
        "drive.mount('/content/drive')"
      ]
    },
    {
      "cell_type": "markdown",
      "metadata": {
        "id": "FexiyATtNwTG"
      },
      "source": [
        "### Step 2: Install libtorrent library\n",
        "Libtorrent is a feature complete C++ bittorrent implementation focusing on efficiency and scalability.\n",
        "https://www.libtorrent.org/"
      ]
    },
    {
      "cell_type": "code",
      "execution_count": 2,
      "metadata": {
        "id": "m6hF0emftx4h",
        "outputId": "03a8aa31-5e13-48f6-f58c-b0cf64af38d7",
        "colab": {
          "base_uri": "https://localhost:8080/"
        }
      },
      "outputs": [
        {
          "output_type": "stream",
          "name": "stdout",
          "text": [
            "Requirement already satisfied: pip in /usr/local/lib/python3.11/dist-packages (24.1.2)\n",
            "Collecting pip\n",
            "  Downloading pip-25.0-py3-none-any.whl.metadata (3.7 kB)\n",
            "Requirement already satisfied: setuptools in /usr/local/lib/python3.11/dist-packages (75.1.0)\n",
            "Collecting setuptools\n",
            "  Downloading setuptools-75.8.0-py3-none-any.whl.metadata (6.7 kB)\n",
            "Requirement already satisfied: wheel in /usr/local/lib/python3.11/dist-packages (0.45.1)\n",
            "Downloading pip-25.0-py3-none-any.whl (1.8 MB)\n",
            "\u001b[2K   \u001b[90m━━━━━━━━━━━━━━━━━━━━━━━━━━━━━━━━━━━━━━━━\u001b[0m \u001b[32m1.8/1.8 MB\u001b[0m \u001b[31m58.9 MB/s\u001b[0m eta \u001b[36m0:00:00\u001b[0m\n",
            "\u001b[?25hDownloading setuptools-75.8.0-py3-none-any.whl (1.2 MB)\n",
            "\u001b[2K   \u001b[90m━━━━━━━━━━━━━━━━━━━━━━━━━━━━━━━━━━━━━━━━\u001b[0m \u001b[32m1.2/1.2 MB\u001b[0m \u001b[31m69.9 MB/s\u001b[0m eta \u001b[36m0:00:00\u001b[0m\n",
            "\u001b[?25hInstalling collected packages: setuptools, pip\n",
            "  Attempting uninstall: setuptools\n",
            "    Found existing installation: setuptools 75.1.0\n",
            "    Uninstalling setuptools-75.1.0:\n",
            "      Successfully uninstalled setuptools-75.1.0\n",
            "  Attempting uninstall: pip\n",
            "    Found existing installation: pip 24.1.2\n",
            "    Uninstalling pip-24.1.2:\n",
            "      Successfully uninstalled pip-24.1.2\n",
            "\u001b[31mERROR: pip's dependency resolver does not currently take into account all the packages that are installed. This behaviour is the source of the following dependency conflicts.\n",
            "ipython 7.34.0 requires jedi>=0.16, which is not installed.\u001b[0m\u001b[31m\n",
            "\u001b[0mSuccessfully installed pip-25.0 setuptools-75.8.0\n",
            "Collecting lbry-libtorrent\n",
            "  Downloading lbry_libtorrent-1.2.4-py3-none-any.whl.metadata (347 bytes)\n",
            "Downloading lbry_libtorrent-1.2.4-py3-none-any.whl (2.4 MB)\n",
            "\u001b[2K   \u001b[90m━━━━━━━━━━━━━━━━━━━━━━━━━━━━━━━━━━━━━━━━\u001b[0m \u001b[32m2.4/2.4 MB\u001b[0m \u001b[31m70.0 MB/s\u001b[0m eta \u001b[36m0:00:00\u001b[0m\n",
            "\u001b[?25hInstalling collected packages: lbry-libtorrent\n",
            "Successfully installed lbry-libtorrent-1.2.4\n"
          ]
        }
      ],
      "source": [
        "!python -m pip install --upgrade pip setuptools wheel\n",
        "!python -m pip install lbry-libtorrent"
      ]
    },
    {
      "cell_type": "markdown",
      "metadata": {
        "id": "j-ILSl_YOGRS"
      },
      "source": [
        "### Step 3: Paste the Magnet Link in the input box\n",
        "Variable **link** stores the link string."
      ]
    },
    {
      "cell_type": "code",
      "execution_count": 3,
      "metadata": {
        "id": "xoyBbqS9LZr3",
        "outputId": "515337ec-a17d-4588-c320-3d037ee8a547",
        "colab": {
          "base_uri": "https://localhost:8080/"
        }
      },
      "outputs": [
        {
          "name": "stdout",
          "output_type": "stream",
          "text": [
            "PASTE TORRENT/MAGNET LINK HERE \n",
            "magnet:?xt=urn:btih:67D467B0C0BE0285330427B27390678996F6F2CA&dn=Moana.2.2024.1080p.DS4K.WEBRip.10Bit.DDP5.1.x265-FASM&tr=udp%3A%2F%2Fp4p.arenabg.com%3A1337%2Fannounce&tr=udp%3A%2F%2Fexplodie.org%3A6969%2Fannounce&tr=udp%3A%2F%2Ftracker.opentrackr.org%3A1337%2Fannounce&tr=udp%3A%2F%2Ftracker.torrent.eu.org%3A451%2Fannounce&tr=udp%3A%2F%2Ftracker.tiny-vps.com%3A6969%2Fannounce&tr=udp%3A%2F%2Fopen.stealth.si%3A80%2Fannounce&tr=udp%3A%2F%2Ftracker.dler.org%3A6969%2Fannounce&tr=http%3A%2F%2Ftracker.bt4g.com%3A2095%2Fannounce&tr=udp%3A%2F%2Fopentracker.io%3A6969%2Fannounce&tr=udp%3A%2F%2Fttk2.nbaonlineservice.com%3A6969%2Fannounce&tr=udp%3A%2F%2Ftracker.opentrackr.org%3A1337%2Fannounce&tr=http%3A%2F%2Ftracker.openbittorrent.com%3A80%2Fannounce&tr=udp%3A%2F%2Fopentracker.i2p.rocks%3A6969%2Fannounce&tr=udp%3A%2F%2Ftracker.internetwarriors.net%3A1337%2Fannounce&tr=udp%3A%2F%2Ftracker.leechers-paradise.org%3A6969%2Fannounce&tr=udp%3A%2F%2Fcoppersurfer.tk%3A6969%2Fannounce&tr=udp%3A%2F%2Ftracker.zer0day.to%3A1337%2Fannounce\n"
          ]
        }
      ],
      "source": [
        "link = input(\"PASTE TORRENT/MAGNET LINK HERE \\n\") # PASTE TORRENT/MAGNET LINK HERE"
      ]
    },
    {
      "cell_type": "markdown",
      "metadata": {
        "id": "tqKcWHZcYRIA"
      },
      "source": [
        "### Step 4: Download torrent"
      ]
    },
    {
      "cell_type": "code",
      "execution_count": null,
      "metadata": {
        "id": "b09BxnANO2ep",
        "outputId": "a40bbe5a-5fd9-4016-b437-99803729c856",
        "colab": {
          "base_uri": "https://localhost:8080/"
        }
      },
      "outputs": [
        {
          "output_type": "stream",
          "name": "stderr",
          "text": [
            "<frozen importlib._bootstrap>:241: RuntimeWarning: to-Python converter for std::pair<int, int> already registered; second conversion method ignored.\n",
            "<frozen importlib._bootstrap>:241: RuntimeWarning: to-Python converter for std::pair<libtorrent::aux::strong_typedef<int, libtorrent::aux::piece_index_tag, void>, libtorrent::aux::strong_typedef<unsigned char, libtorrent::download_priority_tag, void> > already registered; second conversion method ignored.\n",
            "<frozen importlib._bootstrap>:241: RuntimeWarning: to-Python converter for boost::asio::ip::basic_endpoint<boost::asio::ip::tcp> already registered; second conversion method ignored.\n",
            "<frozen importlib._bootstrap>:241: RuntimeWarning: to-Python converter for boost::asio::ip::basic_endpoint<boost::asio::ip::udp> already registered; second conversion method ignored.\n",
            "<frozen importlib._bootstrap>:241: RuntimeWarning: to-Python converter for boost::asio::ip::address already registered; second conversion method ignored.\n",
            "<frozen importlib._bootstrap>:241: RuntimeWarning: to-Python converter for std::pair<std::__cxx11::basic_string<char, std::char_traits<char>, std::allocator<char> >, int> already registered; second conversion method ignored.\n",
            "<frozen importlib._bootstrap>:241: RuntimeWarning: to-Python converter for std::vector<libtorrent::stats_metric, std::allocator<libtorrent::stats_metric> > already registered; second conversion method ignored.\n",
            "<frozen importlib._bootstrap>:241: RuntimeWarning: to-Python converter for std::vector<libtorrent::open_file_state, std::allocator<libtorrent::open_file_state> > already registered; second conversion method ignored.\n",
            "<frozen importlib._bootstrap>:241: RuntimeWarning: to-Python converter for std::vector<libtorrent::digest32<160l>, std::allocator<libtorrent::digest32<160l> > > already registered; second conversion method ignored.\n",
            "<frozen importlib._bootstrap>:241: RuntimeWarning: to-Python converter for std::vector<std::__cxx11::basic_string<char, std::char_traits<char>, std::allocator<char> >, std::allocator<std::__cxx11::basic_string<char, std::char_traits<char>, std::allocator<char> > > > already registered; second conversion method ignored.\n",
            "<frozen importlib._bootstrap>:241: RuntimeWarning: to-Python converter for std::vector<int, std::allocator<int> > already registered; second conversion method ignored.\n",
            "<frozen importlib._bootstrap>:241: RuntimeWarning: to-Python converter for std::vector<libtorrent::aux::strong_typedef<unsigned char, libtorrent::download_priority_tag, void>, std::allocator<libtorrent::aux::strong_typedef<unsigned char, libtorrent::download_priority_tag, void> > > already registered; second conversion method ignored.\n",
            "<frozen importlib._bootstrap>:241: RuntimeWarning: to-Python converter for std::vector<boost::asio::ip::basic_endpoint<boost::asio::ip::tcp>, std::allocator<boost::asio::ip::basic_endpoint<boost::asio::ip::tcp> > > already registered; second conversion method ignored.\n",
            "<frozen importlib._bootstrap>:241: RuntimeWarning: to-Python converter for std::vector<boost::asio::ip::basic_endpoint<boost::asio::ip::udp>, std::allocator<boost::asio::ip::basic_endpoint<boost::asio::ip::udp> > > already registered; second conversion method ignored.\n",
            "<frozen importlib._bootstrap>:241: RuntimeWarning: to-Python converter for std::vector<std::pair<std::__cxx11::basic_string<char, std::char_traits<char>, std::allocator<char> >, int>, std::allocator<std::pair<std::__cxx11::basic_string<char, std::char_traits<char>, std::allocator<char> >, int> > > already registered; second conversion method ignored.\n",
            "<frozen importlib._bootstrap>:241: RuntimeWarning: to-Python converter for libtorrent::typed_bitfield<libtorrent::aux::strong_typedef<int, libtorrent::aux::piece_index_tag, void> > already registered; second conversion method ignored.\n",
            "<frozen importlib._bootstrap>:241: RuntimeWarning: to-Python converter for libtorrent::bitfield already registered; second conversion method ignored.\n",
            "<frozen importlib._bootstrap>:241: RuntimeWarning: to-Python converter for libtorrent::aux::strong_typedef<int, libtorrent::queue_position_tag, void> already registered; second conversion method ignored.\n",
            "<frozen importlib._bootstrap>:241: RuntimeWarning: to-Python converter for libtorrent::aux::strong_typedef<int, libtorrent::aux::piece_index_tag, void> already registered; second conversion method ignored.\n",
            "<frozen importlib._bootstrap>:241: RuntimeWarning: to-Python converter for libtorrent::aux::strong_typedef<unsigned char, libtorrent::download_priority_tag, void> already registered; second conversion method ignored.\n",
            "<frozen importlib._bootstrap>:241: RuntimeWarning: to-Python converter for libtorrent::aux::strong_typedef<int, libtorrent::aux::file_index_tag, void> already registered; second conversion method ignored.\n",
            "<frozen importlib._bootstrap>:241: RuntimeWarning: to-Python converter for libtorrent::aux::strong_typedef<int, libtorrent::port_mapping_tag, void> already registered; second conversion method ignored.\n",
            "<frozen importlib._bootstrap>:241: RuntimeWarning: to-Python converter for libtorrent::aux::strong_typedef<unsigned int, libtorrent::peer_class_tag, void> already registered; second conversion method ignored.\n",
            "<frozen importlib._bootstrap>:241: RuntimeWarning: to-Python converter for libtorrent::flags::bitfield_flag<unsigned long, libtorrent::torrent_flags_tag, void> already registered; second conversion method ignored.\n",
            "<frozen importlib._bootstrap>:241: RuntimeWarning: to-Python converter for libtorrent::flags::bitfield_flag<unsigned int, libtorrent::peer_flags_tag, void> already registered; second conversion method ignored.\n",
            "<frozen importlib._bootstrap>:241: RuntimeWarning: to-Python converter for libtorrent::flags::bitfield_flag<unsigned char, libtorrent::peer_source_flags_tag, void> already registered; second conversion method ignored.\n",
            "<frozen importlib._bootstrap>:241: RuntimeWarning: to-Python converter for libtorrent::flags::bitfield_flag<unsigned char, libtorrent::bandwidth_state_flags_tag, void> already registered; second conversion method ignored.\n",
            "<frozen importlib._bootstrap>:241: RuntimeWarning: to-Python converter for libtorrent::flags::bitfield_flag<unsigned char, libtorrent::file_open_mode_tag, void> already registered; second conversion method ignored.\n",
            "<frozen importlib._bootstrap>:241: RuntimeWarning: to-Python converter for libtorrent::flags::bitfield_flag<unsigned int, libtorrent::picker_flags_tag, void> already registered; second conversion method ignored.\n",
            "<frozen importlib._bootstrap>:241: RuntimeWarning: to-Python converter for libtorrent::flags::bitfield_flag<unsigned int, libtorrent::status_flags_tag, void> already registered; second conversion method ignored.\n",
            "<frozen importlib._bootstrap>:241: RuntimeWarning: to-Python converter for libtorrent::flags::bitfield_flag<unsigned int, libtorrent::alert_category_tag, void> already registered; second conversion method ignored.\n",
            "<frozen importlib._bootstrap>:241: RuntimeWarning: to-Python converter for libtorrent::flags::bitfield_flag<unsigned char, libtorrent::resume_data_flags_tag, void> already registered; second conversion method ignored.\n",
            "<frozen importlib._bootstrap>:241: RuntimeWarning: to-Python converter for libtorrent::flags::bitfield_flag<unsigned char, libtorrent::add_piece_flags_tag, void> already registered; second conversion method ignored.\n",
            "<frozen importlib._bootstrap>:241: RuntimeWarning: to-Python converter for libtorrent::flags::bitfield_flag<unsigned char, libtorrent::pause_flags_tag, void> already registered; second conversion method ignored.\n",
            "<frozen importlib._bootstrap>:241: RuntimeWarning: to-Python converter for libtorrent::flags::bitfield_flag<unsigned char, libtorrent::deadline_flags_tag, void> already registered; second conversion method ignored.\n",
            "<frozen importlib._bootstrap>:241: RuntimeWarning: to-Python converter for libtorrent::flags::bitfield_flag<unsigned int, libtorrent::save_state_flags_tag, void> already registered; second conversion method ignored.\n",
            "<frozen importlib._bootstrap>:241: RuntimeWarning: to-Python converter for libtorrent::flags::bitfield_flag<unsigned char, libtorrent::session_flags_tag, void> already registered; second conversion method ignored.\n",
            "<frozen importlib._bootstrap>:241: RuntimeWarning: to-Python converter for libtorrent::flags::bitfield_flag<unsigned char, libtorrent::remove_flags_tag, void> already registered; second conversion method ignored.\n",
            "<frozen importlib._bootstrap>:241: RuntimeWarning: to-Python converter for libtorrent::flags::bitfield_flag<unsigned char, libtorrent::reopen_network_flags_tag, void> already registered; second conversion method ignored.\n",
            "<frozen importlib._bootstrap>:241: RuntimeWarning: to-Python converter for libtorrent::flags::bitfield_flag<unsigned char, libtorrent::file_flags_tag, void> already registered; second conversion method ignored.\n",
            "<frozen importlib._bootstrap>:241: RuntimeWarning: to-Python converter for libtorrent::flags::bitfield_flag<unsigned int, libtorrent::create_flags_tag, void> already registered; second conversion method ignored.\n",
            "<frozen importlib._bootstrap>:241: RuntimeWarning: to-Python converter for libtorrent::flags::bitfield_flag<unsigned char, libtorrent::pex_flags_tag, void> already registered; second conversion method ignored.\n",
            "<frozen importlib._bootstrap>:241: RuntimeWarning: to-Python converter for libtorrent::flags::bitfield_flag<unsigned char, libtorrent::reannounce_flags_tag, void> already registered; second conversion method ignored.\n",
            "<frozen importlib._bootstrap>:241: RuntimeWarning: to-Python converter for boost::basic_string_view<char, std::char_traits<char> > already registered; second conversion method ignored.\n",
            "<frozen importlib._bootstrap>:241: RuntimeWarning: to-Python converter for libtorrent::aux::noexcept_movable<boost::asio::ip::address> already registered; second conversion method ignored.\n",
            "<frozen importlib._bootstrap>:241: RuntimeWarning: to-Python converter for libtorrent::aux::noexcept_movable<boost::asio::ip::basic_endpoint<boost::asio::ip::tcp> > already registered; second conversion method ignored.\n",
            "<frozen importlib._bootstrap>:241: RuntimeWarning: to-Python converter for libtorrent::aux::noexcept_movable<boost::asio::ip::basic_endpoint<boost::asio::ip::udp> > already registered; second conversion method ignored.\n",
            "<frozen importlib._bootstrap>:241: RuntimeWarning: to-Python converter for libtorrent::aux::noexcept_movable<std::vector<libtorrent::stats_metric, std::allocator<libtorrent::stats_metric> > > already registered; second conversion method ignored.\n",
            "<frozen importlib._bootstrap>:241: RuntimeWarning: to-Python converter for libtorrent::aux::noexcept_movable<std::vector<libtorrent::open_file_state, std::allocator<libtorrent::open_file_state> > > already registered; second conversion method ignored.\n",
            "<frozen importlib._bootstrap>:241: RuntimeWarning: to-Python converter for libtorrent::aux::noexcept_movable<std::vector<libtorrent::digest32<160l>, std::allocator<libtorrent::digest32<160l> > > > already registered; second conversion method ignored.\n",
            "<frozen importlib._bootstrap>:241: RuntimeWarning: to-Python converter for libtorrent::aux::noexcept_movable<std::vector<std::__cxx11::basic_string<char, std::char_traits<char>, std::allocator<char> >, std::allocator<std::__cxx11::basic_string<char, std::char_traits<char>, std::allocator<char> > > > > already registered; second conversion method ignored.\n",
            "<frozen importlib._bootstrap>:241: RuntimeWarning: to-Python converter for libtorrent::aux::noexcept_movable<std::vector<int, std::allocator<int> > > already registered; second conversion method ignored.\n",
            "<frozen importlib._bootstrap>:241: RuntimeWarning: to-Python converter for libtorrent::aux::noexcept_movable<std::vector<libtorrent::aux::strong_typedef<unsigned char, libtorrent::download_priority_tag, void>, std::allocator<libtorrent::aux::strong_typedef<unsigned char, libtorrent::download_priority_tag, void> > > > already registered; second conversion method ignored.\n",
            "<frozen importlib._bootstrap>:241: RuntimeWarning: to-Python converter for libtorrent::aux::noexcept_movable<std::vector<boost::asio::ip::basic_endpoint<boost::asio::ip::tcp>, std::allocator<boost::asio::ip::basic_endpoint<boost::asio::ip::tcp> > > > already registered; second conversion method ignored.\n",
            "<frozen importlib._bootstrap>:241: RuntimeWarning: to-Python converter for libtorrent::aux::noexcept_movable<std::vector<boost::asio::ip::basic_endpoint<boost::asio::ip::udp>, std::allocator<boost::asio::ip::basic_endpoint<boost::asio::ip::udp> > > > already registered; second conversion method ignored.\n",
            "<frozen importlib._bootstrap>:241: RuntimeWarning: to-Python converter for libtorrent::aux::noexcept_movable<std::vector<std::pair<std::__cxx11::basic_string<char, std::char_traits<char>, std::allocator<char> >, int>, std::allocator<std::pair<std::__cxx11::basic_string<char, std::char_traits<char>, std::allocator<char> >, int> > > > already registered; second conversion method ignored.\n",
            "<frozen importlib._bootstrap>:241: RuntimeWarning: to-Python converter for libtorrent::aux::noexcept_movable<std::map<libtorrent::aux::strong_typedef<int, libtorrent::aux::piece_index_tag, void>, libtorrent::bitfield, std::less<libtorrent::aux::strong_typedef<int, libtorrent::aux::piece_index_tag, void> >, std::allocator<std::pair<libtorrent::aux::strong_typedef<int, libtorrent::aux::piece_index_tag, void> const, libtorrent::bitfield> > > > already registered; second conversion method ignored.\n",
            "<frozen importlib._bootstrap>:241: RuntimeWarning: to-Python converter for libtorrent::aux::noexcept_movable<std::map<libtorrent::aux::strong_typedef<int, libtorrent::aux::file_index_tag, void>, std::__cxx11::basic_string<char, std::char_traits<char>, std::allocator<char> >, std::less<libtorrent::aux::strong_typedef<int, libtorrent::aux::file_index_tag, void> >, std::allocator<std::pair<libtorrent::aux::strong_typedef<int, libtorrent::aux::file_index_tag, void> const, std::__cxx11::basic_string<char, std::char_traits<char>, std::allocator<char> > > > > > already registered; second conversion method ignored.\n",
            "<frozen importlib._bootstrap>:241: RuntimeWarning: to-Python converter for std::map<libtorrent::aux::strong_typedef<int, libtorrent::aux::file_index_tag, void>, std::__cxx11::basic_string<char, std::char_traits<char>, std::allocator<char> >, std::less<libtorrent::aux::strong_typedef<int, libtorrent::aux::file_index_tag, void> >, std::allocator<std::pair<libtorrent::aux::strong_typedef<int, libtorrent::aux::file_index_tag, void> const, std::__cxx11::basic_string<char, std::char_traits<char>, std::allocator<char> > > > > already registered; second conversion method ignored.\n",
            "<frozen importlib._bootstrap>:241: RuntimeWarning: to-Python converter for libtorrent::aux::noexcept_movable<std::vector<char, std::allocator<char> > > already registered; second conversion method ignored.\n",
            "<frozen importlib._bootstrap>:241: RuntimeWarning: to-Python converter for category_holder already registered; second conversion method ignored.\n",
            "<frozen importlib._bootstrap>:241: RuntimeWarning: to-Python converter for boost::system::error_code already registered; second conversion method ignored.\n",
            "<frozen importlib._bootstrap>:241: RuntimeWarning: to-Python converter for bytes already registered; second conversion method ignored.\n",
            "<frozen importlib._bootstrap>:241: RuntimeWarning: to-Python converter for libtorrent::fingerprint already registered; second conversion method ignored.\n",
            "<frozen importlib._bootstrap>:241: RuntimeWarning: to-Python converter for libtorrent::digest32<160l> already registered; second conversion method ignored.\n",
            "<frozen importlib._bootstrap>:241: RuntimeWarning: to-Python converter for std::shared_ptr<libtorrent::entry> already registered; second conversion method ignored.\n",
            "<frozen importlib._bootstrap>:241: RuntimeWarning: to-Python converter for libtorrent::entry already registered; second conversion method ignored.\n"
          ]
        },
        {
          "output_type": "stream",
          "name": "stdout",
          "text": [
            "magnet:?xt=urn:btih:67D467B0C0BE0285330427B27390678996F6F2CA&dn=Moana.2.2024.1080p.DS4K.WEBRip.10Bit.DDP5.1.x265-FASM&tr=udp%3A%2F%2Fp4p.arenabg.com%3A1337%2Fannounce&tr=udp%3A%2F%2Fexplodie.org%3A6969%2Fannounce&tr=udp%3A%2F%2Ftracker.opentrackr.org%3A1337%2Fannounce&tr=udp%3A%2F%2Ftracker.torrent.eu.org%3A451%2Fannounce&tr=udp%3A%2F%2Ftracker.tiny-vps.com%3A6969%2Fannounce&tr=udp%3A%2F%2Fopen.stealth.si%3A80%2Fannounce&tr=udp%3A%2F%2Ftracker.dler.org%3A6969%2Fannounce&tr=http%3A%2F%2Ftracker.bt4g.com%3A2095%2Fannounce&tr=udp%3A%2F%2Fopentracker.io%3A6969%2Fannounce&tr=udp%3A%2F%2Fttk2.nbaonlineservice.com%3A6969%2Fannounce&tr=udp%3A%2F%2Ftracker.opentrackr.org%3A1337%2Fannounce&tr=http%3A%2F%2Ftracker.openbittorrent.com%3A80%2Fannounce&tr=udp%3A%2F%2Fopentracker.i2p.rocks%3A6969%2Fannounce&tr=udp%3A%2F%2Ftracker.internetwarriors.net%3A1337%2Fannounce&tr=udp%3A%2F%2Ftracker.leechers-paradise.org%3A6969%2Fannounce&tr=udp%3A%2F%2Fcoppersurfer.tk%3A6969%2Fannounce&tr=udp%3A%2F%2Ftracker.zer0day.to%3A1337%2Fannounce\n",
            "2025-02-03 14:49:05.856789\n",
            "Downloading Metadata...\n",
            "Got Metadata, Starting Torrent Download...\n",
            "Starting Moana.2.2024.1080p.DS4K.WEBRip.10Bit.DDP5.1.x265-FASM\n",
            "0.00% complete (down: 3.5 kb/s up: 0.7 kB/s peers: 5) downloading \n",
            "0.49% complete (down: 2220.9 kb/s up: 83.3 kB/s peers: 22) downloading \n",
            "1.12% complete (down: 3471.9 kb/s up: 129.9 kB/s peers: 35) downloading \n",
            "1.74% complete (down: 3608.5 kb/s up: 146.1 kB/s peers: 34) downloading \n",
            "2.40% complete (down: 3914.8 kb/s up: 155.3 kB/s peers: 35) downloading \n",
            "3.16% complete (down: 4638.8 kb/s up: 177.8 kB/s peers: 35) downloading \n",
            "3.92% complete (down: 4620.2 kb/s up: 178.0 kB/s peers: 43) downloading \n",
            "4.71% complete (down: 5090.1 kb/s up: 179.4 kB/s peers: 43) downloading \n",
            "5.58% complete (down: 5091.6 kb/s up: 187.7 kB/s peers: 43) downloading \n",
            "6.55% complete (down: 5786.1 kb/s up: 206.4 kB/s peers: 42) downloading \n",
            "7.51% complete (down: 6084.8 kb/s up: 212.5 kB/s peers: 42) downloading \n",
            "8.52% complete (down: 6380.4 kb/s up: 215.8 kB/s peers: 43) downloading \n",
            "9.53% complete (down: 6367.4 kb/s up: 223.7 kB/s peers: 42) downloading \n",
            "10.56% complete (down: 6585.0 kb/s up: 237.5 kB/s peers: 42) downloading \n",
            "11.55% complete (down: 6375.6 kb/s up: 233.5 kB/s peers: 42) downloading \n",
            "12.56% complete (down: 6480.9 kb/s up: 230.4 kB/s peers: 42) downloading \n",
            "13.51% complete (down: 6269.8 kb/s up: 224.3 kB/s peers: 42) downloading \n",
            "14.45% complete (down: 5857.6 kb/s up: 206.3 kB/s peers: 42) downloading \n",
            "15.50% complete (down: 6306.8 kb/s up: 214.0 kB/s peers: 43) downloading \n",
            "16.60% complete (down: 6587.0 kb/s up: 229.1 kB/s peers: 43) downloading \n",
            "17.70% complete (down: 7091.8 kb/s up: 243.4 kB/s peers: 44) downloading \n",
            "18.88% complete (down: 7100.0 kb/s up: 244.4 kB/s peers: 43) downloading \n",
            "19.92% complete (down: 6937.8 kb/s up: 232.4 kB/s peers: 45) downloading \n",
            "20.92% complete (down: 6558.7 kb/s up: 223.2 kB/s peers: 45) downloading \n",
            "21.91% complete (down: 6710.0 kb/s up: 231.0 kB/s peers: 45) downloading \n",
            "22.91% complete (down: 6539.5 kb/s up: 223.8 kB/s peers: 46) downloading \n",
            "23.94% complete (down: 6354.7 kb/s up: 218.4 kB/s peers: 46) downloading \n",
            "24.86% complete (down: 6683.7 kb/s up: 228.9 kB/s peers: 45) downloading \n",
            "25.78% complete (down: 6058.0 kb/s up: 215.1 kB/s peers: 46) downloading \n",
            "26.64% complete (down: 5782.3 kb/s up: 203.3 kB/s peers: 46) downloading \n",
            "27.52% complete (down: 5464.6 kb/s up: 203.3 kB/s peers: 46) downloading \n",
            "28.37% complete (down: 5487.3 kb/s up: 198.8 kB/s peers: 45) downloading \n",
            "29.16% complete (down: 5406.0 kb/s up: 194.4 kB/s peers: 47) downloading \n",
            "29.93% complete (down: 4948.7 kb/s up: 180.6 kB/s peers: 48) downloading \n",
            "30.62% complete (down: 4594.1 kb/s up: 163.1 kB/s peers: 49) downloading \n",
            "31.32% complete (down: 4711.4 kb/s up: 171.0 kB/s peers: 53) downloading \n",
            "32.05% complete (down: 4495.2 kb/s up: 170.3 kB/s peers: 51) downloading \n",
            "32.76% complete (down: 4518.8 kb/s up: 169.3 kB/s peers: 54) downloading \n",
            "33.47% complete (down: 4351.6 kb/s up: 173.1 kB/s peers: 54) downloading \n",
            "34.15% complete (down: 4608.9 kb/s up: 182.1 kB/s peers: 56) downloading \n",
            "34.88% complete (down: 4686.7 kb/s up: 180.7 kB/s peers: 56) downloading \n",
            "35.61% complete (down: 4660.6 kb/s up: 177.7 kB/s peers: 56) downloading \n"
          ]
        }
      ],
      "source": [
        "import libtorrent as lt\n",
        "import time\n",
        "import datetime\n",
        "\n",
        "ses = lt.session()\n",
        "ses.listen_on(6881, 6891) #here we are defining the ports on which BitTorrent works\n",
        "params = {\n",
        "    'save_path': '/content/drive/My Drive/Torrent/',\n",
        "    'storage_mode': lt.storage_mode_t(2)}\n",
        "# params means parameters\n",
        "# In paras we are defining the location on drive where we want to save the downloaded files\n",
        "# we also define storage mode, in this case we are using \"sparse allocation mode\"\n",
        "# The sparse allocation, sparse files are used, and pieces are downloaded directly to where they belong. This is the recommended (and default) mode.\n",
        "print(link)\n",
        "\n",
        "handle = lt.add_magnet_uri(ses, link, params)\n",
        "ses.start_dht()\n",
        "\n",
        "begin = time.time()\n",
        "print(datetime.datetime.now())\n",
        "\n",
        "print ('Downloading Metadata...')\n",
        "while (not handle.has_metadata()):\n",
        "    time.sleep(1)\n",
        "print ('Got Metadata, Starting Torrent Download...')\n",
        "\n",
        "print(\"Starting\", handle.name())\n",
        "\n",
        "while (handle.status().state != lt.torrent_status.seeding):\n",
        "    s = handle.status()\n",
        "    state_str = ['queued', 'checking', 'downloading metadata', \\\n",
        "            'downloading', 'finished', 'seeding', 'allocating']\n",
        "    print ('%.2f%% complete (down: %.1f kb/s up: %.1f kB/s peers: %d) %s ' % \\\n",
        "            (s.progress * 100, s.download_rate / 1000, s.upload_rate / 1000, \\\n",
        "            s.num_peers, state_str[s.state]))\n",
        "    time.sleep(5)\n",
        "\n",
        "end = time.time()\n",
        "print(handle.name(), \"COMPLETE\")\n",
        "\n",
        "print(\"Elapsed Time: \",int((end-begin)//60),\"min :\", int((end-begin)%60), \"sec\")\n",
        "\n",
        "print(datetime.datetime.now())"
      ]
    }
  ],
  "metadata": {
    "accelerator": "GPU",
    "colab": {
      "name": "torrent downloader.ipynb",
      "provenance": []
    },
    "kernelspec": {
      "display_name": "Python 3",
      "name": "python3"
    }
  },
  "nbformat": 4,
  "nbformat_minor": 0
}